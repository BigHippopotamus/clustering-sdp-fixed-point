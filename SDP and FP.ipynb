{
 "cells": [
  {
   "cell_type": "code",
   "execution_count": null,
   "id": "6c725dc9-ac1c-4c2c-9595-5672995921c2",
   "metadata": {},
   "outputs": [],
   "source": [
    "!pip install cvxpy\n",
    "!pip install pandas\n",
    "!pip install scikit-learn\n",
    "!pip install numpy\n",
    "!pip install scipy\n",
    "!pip install mosek"
   ]
  },
  {
   "cell_type": "code",
   "execution_count": 1,
   "id": "2da3be70-72be-465e-afa8-6800c73a7193",
   "metadata": {},
   "outputs": [
    {
     "data": {
      "text/plain": [
       "['ECOS', 'ECOS_BB', 'MOSEK', 'OSQP', 'SCIPY', 'SCS']"
      ]
     },
     "execution_count": 1,
     "metadata": {},
     "output_type": "execute_result"
    }
   ],
   "source": [
    "import cvxpy as cvx\n",
    "cvx.installed_solvers()"
   ]
  },
  {
   "cell_type": "markdown",
   "id": "2c5709cb-2835-49d1-aca4-f93a8f1a17ac",
   "metadata": {},
   "source": [
    "<h1>Select a Dataset</h1>"
   ]
  },
  {
   "cell_type": "code",
   "execution_count": 7,
   "id": "60191281-45f3-45c5-b0fd-dc4c3a913c1e",
   "metadata": {},
   "outputs": [
    {
     "name": "stdout",
     "output_type": "stream",
     "text": [
      "     sepal-length  sepal-width  petal-length  petal-width      class\n",
      "0             5.1          3.5           1.4          0.2     setosa\n",
      "1             4.9          3.0           1.4          0.2     setosa\n",
      "2             4.7          3.2           1.3          0.2     setosa\n",
      "3             4.6          3.1           1.5          0.2     setosa\n",
      "4             5.0          3.6           1.4          0.2     setosa\n",
      "..            ...          ...           ...          ...        ...\n",
      "145           6.7          3.0           5.2          2.3  virginica\n",
      "146           6.3          2.5           5.0          1.9  virginica\n",
      "147           6.5          3.0           5.2          2.0  virginica\n",
      "148           6.2          3.4           5.4          2.3  virginica\n",
      "149           5.9          3.0           5.1          1.8  virginica\n",
      "\n",
      "[150 rows x 5 columns]\n"
     ]
    }
   ],
   "source": [
    "import numpy as np\n",
    "import pandas as pd\n",
    "\n",
    "DATASET = 'datasets/iris.csv'\n",
    "\n",
    "df = pd.read_csv(DATASET, index_col=False)\n",
    "\n",
    "n = len(df)\n",
    "\n",
    "print(df)\n",
    "\n",
    "data = df.iloc[:, :4].values\n",
    "output = df.iloc[:, 4].values\n",
    "\n",
    "K = len(np.unique(output))"
   ]
  },
  {
   "cell_type": "code",
   "execution_count": 8,
   "id": "3b13b157-a777-4f75-939c-4117ef196ae3",
   "metadata": {},
   "outputs": [
    {
     "name": "stdout",
     "output_type": "stream",
     "text": [
      "     0      1     2     3     4    5     6     7     8     9      10    11   \n",
      "0     1  14.23  1.71  2.43  15.6  127  2.80  3.06  0.28  2.29   5.64  1.04  \\\n",
      "1     1  13.20  1.78  2.14  11.2  100  2.65  2.76  0.26  1.28   4.38  1.05   \n",
      "2     1  13.16  2.36  2.67  18.6  101  2.80  3.24  0.30  2.81   5.68  1.03   \n",
      "3     1  14.37  1.95  2.50  16.8  113  3.85  3.49  0.24  2.18   7.80  0.86   \n",
      "4     1  13.24  2.59  2.87  21.0  118  2.80  2.69  0.39  1.82   4.32  1.04   \n",
      "..   ..    ...   ...   ...   ...  ...   ...   ...   ...   ...    ...   ...   \n",
      "173   3  13.71  5.65  2.45  20.5   95  1.68  0.61  0.52  1.06   7.70  0.64   \n",
      "174   3  13.40  3.91  2.48  23.0  102  1.80  0.75  0.43  1.41   7.30  0.70   \n",
      "175   3  13.27  4.28  2.26  20.0  120  1.59  0.69  0.43  1.35  10.20  0.59   \n",
      "176   3  13.17  2.59  2.37  20.0  120  1.65  0.68  0.53  1.46   9.30  0.60   \n",
      "177   3  14.13  4.10  2.74  24.5   96  2.05  0.76  0.56  1.35   9.20  0.61   \n",
      "\n",
      "       12    13  \n",
      "0    3.92  1065  \n",
      "1    3.40  1050  \n",
      "2    3.17  1185  \n",
      "3    3.45  1480  \n",
      "4    2.93   735  \n",
      "..    ...   ...  \n",
      "173  1.74   740  \n",
      "174  1.56   750  \n",
      "175  1.56   835  \n",
      "176  1.62   840  \n",
      "177  1.60   560  \n",
      "\n",
      "[178 rows x 14 columns]\n"
     ]
    }
   ],
   "source": [
    "import numpy as np\n",
    "import pandas as pd\n",
    "\n",
    "DATASET = 'datasets/wine.csv'\n",
    "\n",
    "df = pd.read_csv(DATASET, index_col=None, header=None)\n",
    "\n",
    "n = len(df)\n",
    "\n",
    "print(df)\n",
    "\n",
    "data = df.iloc[:, 1:].values\n",
    "output = df.iloc[:, 0].values\n",
    "\n",
    "K = len(np.unique(output))"
   ]
  },
  {
   "cell_type": "code",
   "execution_count": 25,
   "id": "9bb77cce-3c03-4f30-8505-fa0f14e429bf",
   "metadata": {},
   "outputs": [
    {
     "name": "stdout",
     "output_type": "stream",
     "text": [
      "(70000, 784)\n",
      "    label  0  1  2  3  4  5  6  7  8  ...  774  775  776  777  778  779  780   \n",
      "0     0.0  0  0  0  0  0  0  0  0  0  ...    0    0    0    0    0    0    0  \\\n",
      "1     0.0  0  0  0  0  0  0  0  0  0  ...    0    0    0    0    0    0    0   \n",
      "2     0.0  0  0  0  0  0  0  0  0  0  ...    0    0    0    0    0    0    0   \n",
      "3     0.0  0  0  0  0  0  0  0  0  0  ...    0    0    0    0    0    0    0   \n",
      "4     0.0  0  0  0  0  0  0  0  0  0  ...    0    0    0    0    0    0    0   \n",
      "..    ... .. .. .. .. .. .. .. .. ..  ...  ...  ...  ...  ...  ...  ...  ...   \n",
      "95    4.0  0  0  0  0  0  0  0  0  0  ...    0    0    0    0    0    0    0   \n",
      "96    4.0  0  0  0  0  0  0  0  0  0  ...    0    0    0    0    0    0    0   \n",
      "97    4.0  0  0  0  0  0  0  0  0  0  ...    0    0    0    0    0    0    0   \n",
      "98    4.0  0  0  0  0  0  0  0  0  0  ...    0    0    0    0    0    0    0   \n",
      "99    4.0  0  0  0  0  0  0  0  0  0  ...    0    0    0    0    0    0    0   \n",
      "\n",
      "    781  782  783  \n",
      "0     0    0    0  \n",
      "1     0    0    0  \n",
      "2     0    0    0  \n",
      "3     0    0    0  \n",
      "4     0    0    0  \n",
      "..  ...  ...  ...  \n",
      "95    0    0    0  \n",
      "96    0    0    0  \n",
      "97    0    0    0  \n",
      "98    0    0    0  \n",
      "99    0    0    0  \n",
      "\n",
      "[100 rows x 785 columns]\n"
     ]
    }
   ],
   "source": [
    "import pandas as pd\n",
    "from scipy.io import loadmat\n",
    "\n",
    "DATASET = 'datasets/mnist.mat'\n",
    "mnist = loadmat(DATASET)\n",
    "mnist_data = mnist[\"data\"].T\n",
    "mnist_label = mnist[\"label\"][0]\n",
    "\n",
    "print(mnist_data.shape)\n",
    "\n",
    "labels = pd.DataFrame(mnist_label, columns=['label'])\n",
    "digits = pd.DataFrame(mnist_data, columns=[f'{i}' for i in range(784)])\n",
    "\n",
    "dfo = pd.concat([labels, digits], axis = 1)\n",
    "\n",
    "n = 100\n",
    "K = 5\n",
    "\n",
    "dfs = [None for _ in range(K)]\n",
    "for i in range(K):\n",
    "    dfs[i] = dfo.loc[dfo['label'] == i]\n",
    "    \n",
    "df = pd.DataFrame()\n",
    "for i in range(K):\n",
    "    df = pd.concat([df, dfs[i].sample(n // K)])\n",
    "\n",
    "df.reset_index(inplace=True, drop=True)\n",
    "print(df)\n",
    "\n",
    "data = df.iloc[:n, 1:].values / 255\n",
    "output = df.iloc[:n, 0].values"
   ]
  },
  {
   "cell_type": "markdown",
   "id": "e7452c76-af84-4ac8-956f-f54735de1b0b",
   "metadata": {},
   "source": [
    "<h1>Run Algorithm</h1>"
   ]
  },
  {
   "cell_type": "code",
   "execution_count": 26,
   "id": "14fcffee-1d11-4a79-837b-004354667eaa",
   "metadata": {},
   "outputs": [],
   "source": [
    "import cvxpy as cvx\n",
    "import numpy as np\n",
    "import time\n",
    "\n",
    "def norm(a, b):\n",
    "    return np.sqrt(np.sum(np.power(np.subtract(a, b), 2)))\n",
    "\n",
    "\n",
    "def weight(a, b):\n",
    "    return norm(a, b)\n",
    "\n",
    "\n",
    "def get_adj_matrix(data):\n",
    "    n = len(data)\n",
    "    adj_mat = np.zeros((n, n))\n",
    "    for i in range(n):\n",
    "        for j in range(n):\n",
    "            if i != j:\n",
    "                dist = weight(data[i], data[j])\n",
    "                adj_mat[i, j] = adj_mat[j, i] = dist\n",
    "\n",
    "    return adj_mat\n",
    "\n",
    "\n",
    "def max_k_cut(raw_data, k):\n",
    "    n = len(raw_data)\n",
    "    dim = len(raw_data[0])\n",
    "    data = get_adj_matrix(raw_data)\n",
    "\n",
    "    Y = cvx.Variable((n, n), PSD=True)\n",
    "\n",
    "    constraints = []\n",
    "    for i in range(n):\n",
    "        constraints.append(Y[i, i] == 1)\n",
    "        for j in range(n):\n",
    "            if i != j:\n",
    "                constraints.append(Y[i, j] >= (-1 / (k - 1)))\n",
    "\n",
    "    expr = cvx.sum(cvx.multiply(data, np.ones((n, n)) - Y))\n",
    "\n",
    "    problem = cvx.Problem(cvx.Maximize(expr), constraints)\n",
    "    problem.solve(solver='MOSEK')\n",
    "\n",
    "    y = Y.value\n",
    "\n",
    "    return y\n",
    "\n",
    "def fixed_point(x, k, n):\n",
    "    A = ((1 - k/2) / (k-1)) * np.ones(n)\n",
    "        \n",
    "    Y = cvx.Variable((n, n), PSD=True)\n",
    "\n",
    "    constraints = []\n",
    "    for l in range(n):\n",
    "        constraints.append(Y[l, l] == 1)\n",
    "        for j in range(n):\n",
    "            if l != j:\n",
    "                constraints.append(Y[l, j] >= (-1 / (k - 1)))\n",
    "                \n",
    "    expr = cvx.sum(cvx.multiply(x + A, Y))\n",
    "    \n",
    "    problem = cvx.Problem(cvx.Maximize(expr), constraints)\n",
    "    problem.solve(solver='MOSEK')\n",
    "    \n",
    "    y = Y.value\n",
    "    \n",
    "    return y"
   ]
  },
  {
   "cell_type": "code",
   "execution_count": null,
   "id": "929d0f95-6a48-46c1-88e8-d3619636452f",
   "metadata": {},
   "outputs": [
    {
     "name": "stdout",
     "output_type": "stream",
     "text": [
      "SDP Matrix Built\n"
     ]
    }
   ],
   "source": [
    "from sklearn.metrics import adjusted_rand_score, rand_score\n",
    "\n",
    "x = max_k_cut(data, K)\n",
    "print('SDP Matrix Built')\n",
    "\n",
    "mat = np.reshape(x, (n, n))\n",
    "\n",
    "a = -1 / (K - 1)\n",
    "\n",
    "MIN_ERROR = 1E-4\n",
    "\n",
    "i = 1\n",
    "while True:\n",
    "  new_x = fixed_point(x, K, n)\n",
    "  max_diff = np.max(np.abs(new_x - x))\n",
    "  x = new_x\n",
    "\n",
    "  print(f'Fixed Point Iteration #{i} Complete (Maximum Change = {max_diff})')\n",
    "  if (max_diff < MIN_ERROR):\n",
    "      break\n",
    "  i += 1\n",
    "\n",
    "print('Fixed Point Iteration Complete')\n",
    "\n",
    "unused = [i for i in range(n)]\n",
    "classifier = [-1 for i in range(n)]\n",
    "\n",
    "for i in range(K):\n",
    "    current = unused[0]\n",
    "\n",
    "    j = 0\n",
    "\n",
    "    while j < len(unused):\n",
    "        check_a = x[current, unused[j]]\n",
    "        is_same = round(check_a * (K - 1)) // (K - 1)\n",
    "\n",
    "        if is_same == 1:\n",
    "            classifier[unused[j]] = i\n",
    "            unused.remove(unused[j])\n",
    "        else:\n",
    "            j += 1\n",
    "\n",
    "print('Classifier:', classifier)\n",
    "print('Rand Index:', rand_score(output, classifier))\n",
    "print('Adjusted Rand Index:', adjusted_rand_score(output, classifier))"
   ]
  },
  {
   "cell_type": "code",
   "execution_count": null,
   "id": "011d8077-75e1-45bb-af65-ec83116f5bbf",
   "metadata": {},
   "outputs": [],
   "source": []
  }
 ],
 "metadata": {
  "kernelspec": {
   "display_name": "Python 3 (ipykernel)",
   "language": "python",
   "name": "python3"
  },
  "language_info": {
   "codemirror_mode": {
    "name": "ipython",
    "version": 3
   },
   "file_extension": ".py",
   "mimetype": "text/x-python",
   "name": "python",
   "nbconvert_exporter": "python",
   "pygments_lexer": "ipython3",
   "version": "3.10.4"
  }
 },
 "nbformat": 4,
 "nbformat_minor": 5
}
